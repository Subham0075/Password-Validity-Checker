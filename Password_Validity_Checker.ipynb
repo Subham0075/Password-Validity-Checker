{
  "nbformat": 4,
  "nbformat_minor": 0,
  "metadata": {
    "colab": {
      "provenance": [],
      "authorship_tag": "ABX9TyNQIaHXF0YXHB9QkMSEOiBD",
      "include_colab_link": true
    },
    "kernelspec": {
      "name": "python3",
      "display_name": "Python 3"
    },
    "language_info": {
      "name": "python"
    }
  },
  "cells": [
    {
      "cell_type": "markdown",
      "metadata": {
        "id": "view-in-github",
        "colab_type": "text"
      },
      "source": [
        "<a href=\"https://colab.research.google.com/github/Subham0075/Password-Validity-Checker/blob/main/Password_Validity_Checker.ipynb\" target=\"_parent\"><img src=\"https://colab.research.google.com/assets/colab-badge.svg\" alt=\"Open In Colab\"/></a>"
      ]
    },
    {
      "cell_type": "code",
      "source": [
        "password= input('Enter the password: ')\n",
        "\n",
        "if len(password) < 8:\n",
        "    print('Not Valid')\n",
        "if not (i.isupper() for i in  password):\n",
        "    print('Not Valid')\n",
        "if not (i.islower() for i in password):\n",
        "    print('Not Valid')\n",
        "if not (i.isalpha() for i in password):\n",
        "    print('Not Valid')\n",
        "special_characters = (\"!@#_&-+()*':;?,./{}][<>%€¥$¢§∆=\")\n",
        "if not (i in special_characters for i in password):\n",
        "    print('Not Valid')\n",
        "else:\n",
        "\tprint(\"Valid password\")"
      ],
      "metadata": {
        "colab": {
          "base_uri": "https://localhost:8080/"
        },
        "id": "SH8Ixtuh-r1L",
        "outputId": "6ef2b4c0-a8f2-4d20-8815-f375c09f72ae"
      },
      "execution_count": 5,
      "outputs": [
        {
          "output_type": "stream",
          "name": "stdout",
          "text": [
            "Enter the password: @Subham1234\n",
            "Valid password\n"
          ]
        }
      ]
    }
  ]
}